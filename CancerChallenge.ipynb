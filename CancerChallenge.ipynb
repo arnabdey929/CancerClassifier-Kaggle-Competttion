{
 "cells": [
  {
   "cell_type": "code",
   "execution_count": 1,
   "metadata": {},
   "outputs": [],
   "source": [
    "import numpy as np\n",
    "import pandas as pd\n",
    "import os\n",
    "import cv2\n",
    "import matplotlib.pyplot as plt\n",
    "import torch\n",
    "import torch.nn as nn\n",
    "import torch.optim as optim\n",
    "from torch.utils.data import DataLoader, TensorDataset\n",
    "import h5py\n",
    "from tqdm import tqdm\n",
    "from sklearn.metrics import accuracy_score, f1_score, confusion_matrix, ConfusionMatrixDisplay, roc_curve, auc"
   ]
  },
  {
   "cell_type": "code",
   "execution_count": 2,
   "metadata": {},
   "outputs": [
    {
     "name": "stderr",
     "output_type": "stream",
     "text": [
      "/tmp/ipykernel_7252/2622661652.py:2: DtypeWarning: Columns (51,52) have mixed types. Specify dtype option on import or set low_memory=False.\n",
      "  all_files = pd.read_csv(\"/home/arnabdey/Placement_ML_projects/.vscode/Kaggle cancer images/isic-2024-challenge/train-metadata.csv\")\n"
     ]
    },
    {
     "name": "stdout",
     "output_type": "stream",
     "text": [
      "464725\n"
     ]
    }
   ],
   "source": [
    "Images_Path = \"/home/arnabdey/Placement_ML_projects/.vscode/Kaggle cancer images/isic-2024-challenge/train-image/image\"\n",
    "all_files = pd.read_csv(\"/home/arnabdey/Placement_ML_projects/.vscode/Kaggle cancer images/isic-2024-challenge/train-metadata.csv\")\n",
    "test_files = pd.read_csv(\"/home/arnabdey/Placement_ML_projects/.vscode/Kaggle cancer images/isic-2024-challenge/test-metadata.csv\")\n",
    "print(len(os.listdir(Images_Path)))"
   ]
  },
  {
   "cell_type": "code",
   "execution_count": 27,
   "metadata": {},
   "outputs": [],
   "source": [
    "# all_files.info()"
   ]
  },
  {
   "cell_type": "code",
   "execution_count": 3,
   "metadata": {},
   "outputs": [],
   "source": [
    "all_data = all_files.drop(columns=[\n",
    "    \"tbp_lv_location_simple\",\n",
    "    \"tbp_lv_dnn_lesion_confidence\", \n",
    "    \"mel_thick_mm\",\n",
    "    \"mel_mitotic_index\",\n",
    "    \"iddx_1\", \"iddx_2\", \"iddx_3\", \"iddx_4\", \"iddx_5\", \"iddx_full\",\n",
    "    \"lesion_id\",\n",
    "    \"image_type\",\n",
    "    \"tbp_tile_type\",\n",
    "    \"attribution\",\n",
    "    \"copyright_license\",\n",
    "    \"patient_id\"\n",
    "    ])"
   ]
  },
  {
   "cell_type": "code",
   "execution_count": 29,
   "metadata": {},
   "outputs": [
    {
     "name": "stdout",
     "output_type": "stream",
     "text": [
      "Columns with no of nan values, out of 401059\n",
      "age_approx              2798\n",
      "sex                    11517\n",
      "anatom_site_general     5756\n",
      "dtype: int64\n"
     ]
    }
   ],
   "source": [
    "nan_counts = all_data.isnull().sum()\n",
    "print(f\"Columns with no of nan values, out of {len(all_data)}\")\n",
    "print(nan_counts[nan_counts != 0])"
   ]
  },
  {
   "cell_type": "code",
   "execution_count": 30,
   "metadata": {},
   "outputs": [],
   "source": [
    "# unique_vals = all_data[\"anatom_site_general\"].unique()\n",
    "# print(len(unique_vals))\n",
    "# print(unique_vals)"
   ]
  },
  {
   "cell_type": "code",
   "execution_count": 31,
   "metadata": {},
   "outputs": [],
   "source": [
    "all_data[\"age_approx\"] = all_data[\"age_approx\"].fillna(-10.0)\n",
    "all_data[\"sex\"] = all_data[\"sex\"].replace({'male' : 0, 'female' : 1}).fillna(-1.0)\n",
    "all_data[\"anatom_site_general\"] = all_data[\"anatom_site_general\"].replace({\n",
    "    'lower extremity' : 0,\n",
    "    'head/neck' : 1,\n",
    "    'posterior torso' : 2,\n",
    "    'anterior torso' : 3,\n",
    "    'upper extremity' : 4\n",
    "}).fillna(-1)\n",
    "unique_vals = all_data[\"tbp_lv_location\"].unique()\n",
    "# print(len(unique_vals))\n",
    "myDict = {}\n",
    "i = 0\n",
    "for x in unique_vals:\n",
    "    myDict[x] = i\n",
    "    i += 1\n",
    "all_data[\"tbp_lv_location\"] = all_data[\"tbp_lv_location\"].replace(myDict)"
   ]
  },
  {
   "cell_type": "markdown",
   "metadata": {},
   "source": [
    "one_data = {}\n",
    "for index, row in all_data.iterrows():\n",
    "    for key in row.keys():\n",
    "        one_data[key] = row[key]\n",
    "    break\n",
    "one_data[\"isic_id\"] = \"hello\"\n",
    "print(one_data)"
   ]
  },
  {
   "cell_type": "code",
   "execution_count": 61,
   "metadata": {},
   "outputs": [
    {
     "name": "stderr",
     "output_type": "stream",
     "text": [
      "393it [03:54,  1.68it/s]\n"
     ]
    }
   ],
   "source": [
    "count = 0\n",
    "prev_one_data = all_data[all_data[\"target\"] == 1]\n",
    "all_data_zeros = all_data[all_data[\"target\"] == 0]\n",
    "all_data_ones = pd.DataFrame(columns=all_data.columns)\n",
    "\n",
    "for index, row in tqdm(prev_one_data.iterrows()):\n",
    "    #augment this image\n",
    "    image = cv2.imread(Images_Path + \"/\" + row[\"isic_id\"] + \".jpg\")\n",
    "    list_of_images = [image]\n",
    "\n",
    "    list_of_images.append(image[:-1])\n",
    "    list_of_images.append(image[1:])\n",
    "    list_of_images.append(image[:,:-1])\n",
    "    list_of_images.append(image[:,1:])\n",
    "\n",
    "    list_of_images.append(image[:-2])\n",
    "    list_of_images.append(image[2:])\n",
    "    list_of_images.append(image[:,:-2])\n",
    "    list_of_images.append(image[:,2:])\n",
    "\n",
    "    new_list = [x for x in list_of_images]\n",
    "    for x in list_of_images:\n",
    "        new_list.append(np.clip(x-1, 0, 255))\n",
    "        new_list.append(np.clip(x+1, 0, 255))\n",
    "    del list_of_images\n",
    "    list_of_images = [x for x in new_list]\n",
    "    for x in new_list:\n",
    "        list_of_images.append(cv2.rotate(x, cv2.ROTATE_180))\n",
    "        list_of_images.append(cv2.rotate(x, cv2.ROTATE_90_CLOCKWISE))\n",
    "        list_of_images.append(cv2.rotate(x, cv2.ROTATE_90_COUNTERCLOCKWISE))\n",
    "        list_of_images.append(cv2.flip(x, 0))\n",
    "        list_of_images.append(cv2.flip(x, 1))\n",
    "    \n",
    "    i = 0\n",
    "    for x in list_of_images:\n",
    "        #save the image in folder\n",
    "        name = row[\"isic_id\"] + str(i)\n",
    "        i += 1\n",
    "        output_path = Images_Path + \"/\" + name + \".jpg\"\n",
    "        cv2.imwrite(output_path, x)\n",
    "        #add the new row in csv file\n",
    "        one_data = {}\n",
    "        for key in row.keys():\n",
    "            one_data[key] = row[key]\n",
    "        one_data[\"isic_id\"] = name\n",
    "        # print(one_data)\n",
    "        # break\n",
    "        new_row = pd.DataFrame(one_data, index=[count])\n",
    "        count += 1\n",
    "        all_data_ones = pd.concat([all_data_ones, new_row])      \n",
    "        \n",
    "    # break"
   ]
  },
  {
   "cell_type": "code",
   "execution_count": 62,
   "metadata": {},
   "outputs": [],
   "source": [
    "all_data_zeros.to_csv(\"all_data_zeros.csv\")\n",
    "all_data_ones.to_csv(\"all_data_ones.csv\")"
   ]
  },
  {
   "cell_type": "code",
   "execution_count": 63,
   "metadata": {},
   "outputs": [],
   "source": [
    "checkOne = pd.read_csv(\"/home/arnabdey/Placement_ML_projects/.vscode/Kaggle cancer images/all_data_ones.csv\")"
   ]
  },
  {
   "cell_type": "code",
   "execution_count": 65,
   "metadata": {},
   "outputs": [
    {
     "name": "stdout",
     "output_type": "stream",
     "text": [
      "ISIC_00828291\n"
     ]
    }
   ],
   "source": [
    "print(all_data_ones[\"isic_id\"][1])"
   ]
  },
  {
   "cell_type": "code",
   "execution_count": 66,
   "metadata": {},
   "outputs": [
    {
     "name": "stdout",
     "output_type": "stream",
     "text": [
      "401059\n",
      "400666\n",
      "63666\n"
     ]
    }
   ],
   "source": [
    "print(len(all_data_zeros))\n",
    "print(len(all_data_ones))"
   ]
  },
  {
   "cell_type": "markdown",
   "metadata": {},
   "source": [
    "*Now data is cleaned*"
   ]
  },
  {
   "cell_type": "code",
   "execution_count": 3,
   "metadata": {},
   "outputs": [],
   "source": [
    "all_data_ones = pd.read_csv(\"/home/arnabdey/Placement_ML_projects/.vscode/Kaggle cancer images/all_data_ones.csv\")\n",
    "all_data_zeros = pd.read_csv(\"/home/arnabdey/Placement_ML_projects/.vscode/Kaggle cancer images/all_data_zeros.csv\")\n",
    "all_data_ones = all_data_ones.drop(columns=[\"Unnamed: 0\"])\n",
    "all_data_zeros = all_data_zeros.drop(columns=[\"Unnamed: 0\"])"
   ]
  },
  {
   "cell_type": "code",
   "execution_count": 5,
   "metadata": {},
   "outputs": [
    {
     "name": "stdout",
     "output_type": "stream",
     "text": [
      "No of train images = 50932, 320532\n",
      "No of validation images = 12734, 80134\n"
     ]
    }
   ],
   "source": [
    "train_size_ones = int(0.8 * len(all_data_ones))\n",
    "train_size_zeros = int(0.8 * len(all_data_zeros))\n",
    "\n",
    "train_data_ones = all_data_ones[:train_size_ones]\n",
    "train_data_zeros = all_data_zeros[:train_size_zeros]\n",
    "\n",
    "val_data_ones = all_data_ones[train_size_ones:]\n",
    "val_data_zeros = all_data_zeros[train_size_zeros:]\n",
    "\n",
    "print(f\"No of train images = {len(train_data_ones)}, {len(train_data_zeros)}\")\n",
    "print(f\"No of validation images = {len(val_data_ones)}, {len(val_data_zeros)}\")"
   ]
  },
  {
   "cell_type": "markdown",
   "metadata": {},
   "source": [
    "**The Model image to classification : 0/1**"
   ]
  },
  {
   "cell_type": "code",
   "execution_count": 3,
   "metadata": {},
   "outputs": [],
   "source": [
    "class Classifier(nn.Module):\n",
    "    def __init__(self):\n",
    "        super(Classifier, self).__init__()\n",
    "\n",
    "        self.CNN = nn.Sequential(\n",
    "            nn.Conv2d(in_channels=3, out_channels=8, kernel_size=3, stride=1, padding=0, bias=True),\n",
    "            nn.BatchNorm2d(8),\n",
    "            nn.GELU(),\n",
    "\n",
    "            nn.Conv2d(in_channels=8, out_channels=16, kernel_size=3, stride=1, padding=0, bias=True),\n",
    "            nn.BatchNorm2d(16),\n",
    "            nn.GELU(),\n",
    "\n",
    "            nn.Conv2d(in_channels=16, out_channels=32, kernel_size=5, stride=1, padding=0, bias=True),\n",
    "            nn.BatchNorm2d(32), \n",
    "            nn.GELU(),\n",
    "\n",
    "            nn.Conv2d(in_channels=32, out_channels=16, kernel_size=5, stride=2, padding=0, bias=True),\n",
    "            nn.BatchNorm2d(16),\n",
    "            nn.GELU(),\n",
    "\n",
    "            nn.Conv2d(in_channels=16, out_channels=8, kernel_size=5, stride=2, padding=0, bias=True),\n",
    "            nn.BatchNorm2d(8),\n",
    "            nn.GELU(),\n",
    "\n",
    "            nn.Conv2d(in_channels=8, out_channels=4, kernel_size=5, stride=2, padding=0, bias=True),\n",
    "            nn.BatchNorm2d(4),\n",
    "            nn.GELU(),\n",
    "\n",
    "            nn.Conv2d(in_channels=4, out_channels=1, kernel_size=3, stride=1, padding=0, bias=True),\n",
    "            nn.BatchNorm2d(1),\n",
    "            nn.GELU()\n",
    "        )\n",
    "\n",
    "        self.fc = nn.Sequential(\n",
    "            nn.Linear(in_features=961 + 37, out_features=200, bias=True),\n",
    "            nn.GELU(),\n",
    "            nn.Linear(in_features=200, out_features=128, bias=True),\n",
    "            nn.GELU(),\n",
    "            nn.Linear(in_features=128, out_features=128, bias=True),\n",
    "            nn.GELU(),\n",
    "            nn.Linear(in_features=128, out_features=32, bias=True),\n",
    "            nn.GELU(),\n",
    "            nn.Linear(in_features=32, out_features=8, bias=True),\n",
    "            nn.GELU(),\n",
    "            nn.Linear(in_features=8, out_features=2, bias=True),\n",
    "            # nn.Sigmoid()\n",
    "        )\n",
    "\n",
    "    def forward(self, x, attributes):\n",
    "\n",
    "        x = torch.moveaxis(x, 3, 1)\n",
    "        cnn_output = self.CNN(x)\n",
    "        flattened = cnn_output.reshape(x.shape[0], -1)\n",
    "        #flattened shape is ( , 961)\n",
    "        full_data = torch.cat((flattened, attributes), dim=1)\n",
    "        return self.fc(full_data)"
   ]
  },
  {
   "cell_type": "code",
   "execution_count": 4,
   "metadata": {},
   "outputs": [],
   "source": [
    "model = Classifier()\n",
    "model = torch.compile(model).to('cuda')\n",
    "torch.set_float32_matmul_precision('high')\n",
    "torch._dynamo.config.suppress_errors = True\n",
    "\n",
    "batch_size = 256\n",
    "epochs = 30\n",
    "optimiser = optim.AdamW(model.parameters(), lr=3e-5)\n",
    "criterion = nn.BCEWithLogitsLoss(pos_weight=torch.tensor([0.5794, 3.6466], device='cuda'))"
   ]
  },
  {
   "cell_type": "code",
   "execution_count": 97,
   "metadata": {},
   "outputs": [],
   "source": [
    "# a = torch.zeros((32, 300, 125, 3), dtype = float)\n",
    "# a = torch.moveaxis(a, 3, 1)\n",
    "# print(a.shape)"
   ]
  },
  {
   "cell_type": "code",
   "execution_count": 98,
   "metadata": {},
   "outputs": [
    {
     "name": "stdout",
     "output_type": "stream",
     "text": [
      "epoch : 1 / 30 \n"
     ]
    },
    {
     "name": "stderr",
     "output_type": "stream",
     "text": [
      "100%|██████████| 1451/1451 [18:07<00:00,  1.33it/s]\n"
     ]
    },
    {
     "name": "stdout",
     "output_type": "stream",
     "text": [
      "epoch : 2 / 30 \n"
     ]
    },
    {
     "name": "stderr",
     "output_type": "stream",
     "text": [
      "100%|██████████| 1451/1451 [17:21<00:00,  1.39it/s]\n"
     ]
    },
    {
     "name": "stdout",
     "output_type": "stream",
     "text": [
      "epoch : 3 / 30 \n"
     ]
    },
    {
     "name": "stderr",
     "output_type": "stream",
     "text": [
      "100%|██████████| 1451/1451 [17:21<00:00,  1.39it/s]\n"
     ]
    },
    {
     "name": "stdout",
     "output_type": "stream",
     "text": [
      "epoch : 4 / 30 \n"
     ]
    },
    {
     "name": "stderr",
     "output_type": "stream",
     "text": [
      "100%|██████████| 1451/1451 [17:27<00:00,  1.39it/s]\n"
     ]
    },
    {
     "name": "stdout",
     "output_type": "stream",
     "text": [
      "epoch : 5 / 30 \n"
     ]
    },
    {
     "name": "stderr",
     "output_type": "stream",
     "text": [
      "100%|██████████| 1451/1451 [17:30<00:00,  1.38it/s]\n"
     ]
    },
    {
     "name": "stdout",
     "output_type": "stream",
     "text": [
      "epoch : 6 / 30 \n"
     ]
    },
    {
     "name": "stderr",
     "output_type": "stream",
     "text": [
      "100%|██████████| 1451/1451 [17:24<00:00,  1.39it/s]\n"
     ]
    },
    {
     "name": "stdout",
     "output_type": "stream",
     "text": [
      "epoch : 7 / 30 \n"
     ]
    },
    {
     "name": "stderr",
     "output_type": "stream",
     "text": [
      "100%|██████████| 1451/1451 [17:23<00:00,  1.39it/s]\n"
     ]
    },
    {
     "name": "stdout",
     "output_type": "stream",
     "text": [
      "epoch : 8 / 30 \n"
     ]
    },
    {
     "name": "stderr",
     "output_type": "stream",
     "text": [
      "100%|██████████| 1451/1451 [17:24<00:00,  1.39it/s]\n"
     ]
    },
    {
     "name": "stdout",
     "output_type": "stream",
     "text": [
      "epoch : 9 / 30 \n"
     ]
    },
    {
     "name": "stderr",
     "output_type": "stream",
     "text": [
      "100%|██████████| 1451/1451 [17:23<00:00,  1.39it/s]\n"
     ]
    },
    {
     "name": "stdout",
     "output_type": "stream",
     "text": [
      "epoch : 10 / 30 \n"
     ]
    },
    {
     "name": "stderr",
     "output_type": "stream",
     "text": [
      "100%|██████████| 1451/1451 [17:25<00:00,  1.39it/s]\n"
     ]
    },
    {
     "name": "stdout",
     "output_type": "stream",
     "text": [
      "epoch : 11 / 30 \n"
     ]
    },
    {
     "name": "stderr",
     "output_type": "stream",
     "text": [
      "100%|██████████| 1451/1451 [17:28<00:00,  1.38it/s]\n"
     ]
    },
    {
     "name": "stdout",
     "output_type": "stream",
     "text": [
      "epoch : 12 / 30 \n"
     ]
    },
    {
     "name": "stderr",
     "output_type": "stream",
     "text": [
      "100%|██████████| 1451/1451 [17:24<00:00,  1.39it/s]\n"
     ]
    },
    {
     "name": "stdout",
     "output_type": "stream",
     "text": [
      "epoch : 13 / 30 \n"
     ]
    },
    {
     "name": "stderr",
     "output_type": "stream",
     "text": [
      "100%|██████████| 1451/1451 [17:25<00:00,  1.39it/s]\n"
     ]
    },
    {
     "name": "stdout",
     "output_type": "stream",
     "text": [
      "epoch : 14 / 30 \n"
     ]
    },
    {
     "name": "stderr",
     "output_type": "stream",
     "text": [
      "100%|██████████| 1451/1451 [17:19<00:00,  1.40it/s]\n"
     ]
    },
    {
     "name": "stdout",
     "output_type": "stream",
     "text": [
      "epoch : 15 / 30 \n"
     ]
    },
    {
     "name": "stderr",
     "output_type": "stream",
     "text": [
      "100%|██████████| 1451/1451 [16:45<00:00,  1.44it/s]\n"
     ]
    },
    {
     "name": "stdout",
     "output_type": "stream",
     "text": [
      "epoch : 16 / 30 \n"
     ]
    },
    {
     "name": "stderr",
     "output_type": "stream",
     "text": [
      "100%|██████████| 1451/1451 [16:46<00:00,  1.44it/s]\n"
     ]
    },
    {
     "name": "stdout",
     "output_type": "stream",
     "text": [
      "epoch : 17 / 30 \n"
     ]
    },
    {
     "name": "stderr",
     "output_type": "stream",
     "text": [
      "100%|██████████| 1451/1451 [16:45<00:00,  1.44it/s]\n"
     ]
    },
    {
     "name": "stdout",
     "output_type": "stream",
     "text": [
      "epoch : 18 / 30 \n"
     ]
    },
    {
     "name": "stderr",
     "output_type": "stream",
     "text": [
      "100%|██████████| 1451/1451 [17:15<00:00,  1.40it/s]\n"
     ]
    },
    {
     "name": "stdout",
     "output_type": "stream",
     "text": [
      "epoch : 19 / 30 \n"
     ]
    },
    {
     "name": "stderr",
     "output_type": "stream",
     "text": [
      "100%|██████████| 1451/1451 [17:10<00:00,  1.41it/s]\n"
     ]
    },
    {
     "name": "stdout",
     "output_type": "stream",
     "text": [
      "epoch : 20 / 30 \n"
     ]
    },
    {
     "name": "stderr",
     "output_type": "stream",
     "text": [
      "100%|██████████| 1451/1451 [17:24<00:00,  1.39it/s]\n"
     ]
    },
    {
     "name": "stdout",
     "output_type": "stream",
     "text": [
      "epoch : 21 / 30 \n"
     ]
    },
    {
     "name": "stderr",
     "output_type": "stream",
     "text": [
      "100%|██████████| 1451/1451 [17:24<00:00,  1.39it/s]\n"
     ]
    },
    {
     "name": "stdout",
     "output_type": "stream",
     "text": [
      "epoch : 22 / 30 \n"
     ]
    },
    {
     "name": "stderr",
     "output_type": "stream",
     "text": [
      "100%|██████████| 1451/1451 [17:18<00:00,  1.40it/s]\n"
     ]
    },
    {
     "name": "stdout",
     "output_type": "stream",
     "text": [
      "epoch : 23 / 30 \n"
     ]
    },
    {
     "name": "stderr",
     "output_type": "stream",
     "text": [
      "100%|██████████| 1451/1451 [17:20<00:00,  1.39it/s]\n"
     ]
    },
    {
     "name": "stdout",
     "output_type": "stream",
     "text": [
      "epoch : 24 / 30 \n"
     ]
    },
    {
     "name": "stderr",
     "output_type": "stream",
     "text": [
      "100%|██████████| 1451/1451 [17:17<00:00,  1.40it/s]\n"
     ]
    },
    {
     "name": "stdout",
     "output_type": "stream",
     "text": [
      "epoch : 25 / 30 \n"
     ]
    },
    {
     "name": "stderr",
     "output_type": "stream",
     "text": [
      "100%|██████████| 1451/1451 [17:22<00:00,  1.39it/s]\n"
     ]
    },
    {
     "name": "stdout",
     "output_type": "stream",
     "text": [
      "epoch : 26 / 30 \n"
     ]
    },
    {
     "name": "stderr",
     "output_type": "stream",
     "text": [
      "100%|██████████| 1451/1451 [17:20<00:00,  1.39it/s]\n"
     ]
    },
    {
     "name": "stdout",
     "output_type": "stream",
     "text": [
      "epoch : 27 / 30 \n"
     ]
    },
    {
     "name": "stderr",
     "output_type": "stream",
     "text": [
      "100%|██████████| 1451/1451 [17:14<00:00,  1.40it/s]\n"
     ]
    },
    {
     "name": "stdout",
     "output_type": "stream",
     "text": [
      "epoch : 28 / 30 \n"
     ]
    },
    {
     "name": "stderr",
     "output_type": "stream",
     "text": [
      "100%|██████████| 1451/1451 [17:15<00:00,  1.40it/s]\n"
     ]
    },
    {
     "name": "stdout",
     "output_type": "stream",
     "text": [
      "epoch : 29 / 30 \n"
     ]
    },
    {
     "name": "stderr",
     "output_type": "stream",
     "text": [
      "100%|██████████| 1451/1451 [17:17<00:00,  1.40it/s]\n"
     ]
    },
    {
     "name": "stdout",
     "output_type": "stream",
     "text": [
      "epoch : 30 / 30 \n"
     ]
    },
    {
     "name": "stderr",
     "output_type": "stream",
     "text": [
      "100%|██████████| 1451/1451 [17:22<00:00,  1.39it/s]\n"
     ]
    }
   ],
   "source": [
    "losses = []\n",
    "for epoch in range(epochs):\n",
    "    print(f\"epoch : {epoch+1} / {epochs} \")\n",
    "    epoch_loss = 0\n",
    "    for i in tqdm(range(1450 + 1)):\n",
    "        \n",
    "        if(i == 1450):# the last batch has 82(zero types) and 182(one types)\n",
    "            zero_data = all_data_zeros[-82:]\n",
    "            one_data = all_data_ones[-182:]\n",
    "        else:# take 35 one-types, 221 zero-types.\n",
    "            zero_data = all_data_zeros[i * 221 : (i + 1) * 221]\n",
    "            one_data =  all_data_ones[i * 35 : (i + 1) * 35]\n",
    "        images_in_batch = []\n",
    "\n",
    "        for name in zero_data[\"isic_id\"]:\n",
    "            path_to_image = Images_Path + \"/\" + name + \".jpg\"\n",
    "            images_in_batch.append(cv2.resize(cv2.imread(path_to_image) / 255.0, (300, 300)))\n",
    "        for name in one_data[\"isic_id\"]:\n",
    "            path_to_image = Images_Path + \"/\" + name + \".jpg\"\n",
    "            images_in_batch.append(cv2.resize(cv2.imread(path_to_image) / 255.0, (300, 300)))\n",
    "        attr_zeros = torch.tensor(zero_data.drop(columns=[\"isic_id\", \"target\"]).values, dtype=torch.float32)\n",
    "        attr_ones =  torch.tensor(one_data.drop(columns=[\"isic_id\", \"target\"]).values, dtype=torch.float32)\n",
    "        attr = torch.cat((attr_zeros, attr_ones), dim=0).to('cuda')\n",
    "\n",
    "        targets_zeros = torch.tensor(zero_data[\"target\"].values, dtype=torch.int32)\n",
    "        targets_ones  = torch.tensor(one_data[\"target\"].values, dtype=torch.int32)\n",
    "        targets = torch.cat((targets_zeros, targets_ones), dim=0).to('cuda')\n",
    "\n",
    "\n",
    "        images_in_batch = np.array(images_in_batch)\n",
    "\n",
    "        tensor_data = torch.tensor(images_in_batch, dtype=torch.float32, device='cuda')\n",
    "        tensor_targets = torch.zeros((targets.shape[0], 2), dtype=torch.float32, device='cuda')\n",
    "        tensor_targets[torch.arange(targets.shape[0]), targets] = 1\n",
    "\n",
    "        optimiser.zero_grad()\n",
    "        outputs = model(tensor_data, attr)\n",
    "        loss = criterion(outputs, tensor_targets)\n",
    "        # losses.append(loss.item())\n",
    "        epoch_loss += loss.item()\n",
    "        loss.backward()\n",
    "        optimiser.step()    \n",
    "    losses.append(epoch_loss / 1451.0)"
   ]
  },
  {
   "cell_type": "code",
   "execution_count": 99,
   "metadata": {},
   "outputs": [
    {
     "data": {
      "image/png": "[encoded data removed]",
      "text/plain": [
       "<Figure size 640x480 with 1 Axes>"
      ]
     },
     "metadata": {},
     "output_type": "display_data"
    }
   ],
   "source": [
    "plt.plot(losses)\n",
    "plt.show()"
   ]
  },
  {
   "cell_type": "code",
   "execution_count": 5,
   "metadata": {},
   "outputs": [
    {
     "data": {
      "text/plain": [
       "<All keys matched successfully>"
      ]
     },
     "execution_count": 5,
     "metadata": {},
     "output_type": "execute_result"
    }
   ],
   "source": [
    "# torch.save(model.state_dict(), \"/home/arnabdey/Placement_ML_projects/.vscode/Kaggle cancer images/chall_model.pt\")\n",
    "# model = Classifier()\n",
    "model.load_state_dict(torch.load(\"/home/arnabdey/Placement_ML_projects/.vscode/Kaggle cancer images/chall_model.pt\"))"
   ]
  },
  {
   "cell_type": "markdown",
   "metadata": {},
   "source": [
    "Check on Validation Data"
   ]
  },
  {
   "cell_type": "code",
   "execution_count": 8,
   "metadata": {},
   "outputs": [
    {
     "name": "stderr",
     "output_type": "stream",
     "text": [
      "100%|██████████| 50/50 [00:42<00:00,  1.18it/s]\n",
      "100%|██████████| 314/314 [02:42<00:00,  1.93it/s]\n"
     ]
    }
   ],
   "source": [
    "All_outputs = []\n",
    "All_targets = []\n",
    "batch_size = 256\n",
    "with torch.no_grad():\n",
    "    \n",
    "    for i in tqdm(range(0, len(val_data_ones), batch_size)):\n",
    "        images_in_batch = []\n",
    "\n",
    "        for name in val_data_ones[\"isic_id\"][i:i+batch_size]:\n",
    "            path_to_image = Images_Path + \"/\" + name + \".jpg\"\n",
    "            \n",
    "            images_in_batch.append(cv2.resize(cv2.imread(path_to_image) / 255.0, (300, 300)))\n",
    "\n",
    "        attr = torch.tensor(val_data_ones[i:i+batch_size].drop(columns = [\"isic_id\", \"target\"]).values, dtype=torch.float32, device='cuda')\n",
    "            \n",
    "        images_in_batch = np.array(images_in_batch)\n",
    "        tensor_data = torch.tensor(images_in_batch, dtype=torch.float32, device='cuda')\n",
    "        targets = np.array(val_data_ones[i:i+batch_size][\"target\"].values, dtype=float)\n",
    "\n",
    "        All_targets.append(targets)\n",
    "        All_outputs.append(model(tensor_data, attr).detach().to('cpu').numpy())\n",
    "    \n",
    "    for i in tqdm(range(0, len(val_data_zeros), batch_size)):\n",
    "        images_in_batch = []\n",
    "\n",
    "        for name in val_data_zeros[\"isic_id\"][i:i+batch_size]:\n",
    "            path_to_image = Images_Path + \"/\" + name + \".jpg\"\n",
    "            \n",
    "            images_in_batch.append(cv2.resize(cv2.imread(path_to_image) / 255.0, (300, 300)))\n",
    "\n",
    "        attr = torch.tensor(val_data_zeros[i:i+batch_size].drop(columns = [\"isic_id\", \"target\"]).values, dtype=torch.float32, device='cuda')\n",
    "            \n",
    "        images_in_batch = np.array(images_in_batch)\n",
    "        tensor_data = torch.tensor(images_in_batch, dtype=torch.float32, device='cuda')\n",
    "        targets = np.array(val_data_zeros[i:i+batch_size][\"target\"].values, dtype=float)\n",
    "\n",
    "        All_targets.append(targets)\n",
    "        All_outputs.append(model(tensor_data, attr).detach().to('cpu').numpy())"
   ]
  },
  {
   "cell_type": "code",
   "execution_count": 21,
   "metadata": {},
   "outputs": [
    {
     "data": {
      "image/png": "[encoded data removed]",
      "text/plain": [
       "<Figure size 640x480 with 2 Axes>"
      ]
     },
     "metadata": {},
     "output_type": "display_data"
    }
   ],
   "source": [
    "all_outs = []\n",
    "for i in range(len(All_outputs)):\n",
    "    for x in All_outputs[i]:\n",
    "        all_outs.append(x)\n",
    "all_outs = np.array(all_outs)\n",
    "all_outs_max = np.array([np.exp(x) / np.sum(np.exp(x)) for x in all_outs])\n",
    "all_outs_int = np.array([np.argmax(x) for x in all_outs])\n",
    "all_targets = []\n",
    "for i in range(len(All_targets)):\n",
    "    for x in All_targets[i]:\n",
    "        all_targets.append(x)\n",
    "all_targets = np.array(all_targets)\n",
    "\n",
    "c_matrix = confusion_matrix(y_true=all_targets, y_pred=all_outs_int)\n",
    "accu = accuracy_score(y_true=all_targets, y_pred=all_outs_int)\n",
    "f1 = f1_score(y_true=all_targets, y_pred=all_outs_int)\n",
    "disp = ConfusionMatrixDisplay(confusion_matrix=c_matrix)\n",
    "disp.plot()\n",
    "plt.show()"
   ]
  },
  {
   "cell_type": "code",
   "execution_count": 10,
   "metadata": {},
   "outputs": [
    {
     "name": "stdout",
     "output_type": "stream",
     "text": [
      "Accuracy = 0.8764052203127018\n",
      "F1 Score = 0.5052586206896552\n"
     ]
    }
   ],
   "source": [
    "print(f\"Accuracy = {accu}\")\n",
    "print(f\"F1 Score = {f1}\")"
   ]
  },
  {
   "cell_type": "code",
   "execution_count": 24,
   "metadata": {},
   "outputs": [
    {
     "name": "stdout",
     "output_type": "stream",
     "text": [
      "(92868,)\n"
     ]
    }
   ],
   "source": [
    "print(all_outs_max[:, 0].shape)"
   ]
  },
  {
   "cell_type": "code",
   "execution_count": 26,
   "metadata": {},
   "outputs": [
    {
     "data": {
      "image/png": "[encoded data removed]",
      "text/plain": [
       "<Figure size 640x480 with 1 Axes>"
      ]
     },
     "metadata": {},
     "output_type": "display_data"
    }
   ],
   "source": [
    "fpr, tpr, thresholds = roc_curve(all_targets, all_outs_max[:, 1]) \n",
    "roc_auc = auc(fpr, tpr)\n",
    "# Plot the ROC curve\n",
    "plt.figure()  \n",
    "plt.plot(fpr, tpr, label='ROC curve (area = %0.2f)' % roc_auc)\n",
    "plt.plot([0, 1], [0, 1], 'k--', label='No Skill')\n",
    "plt.xlim([0.0, 1.0])\n",
    "plt.ylim([0.0, 1.05])\n",
    "plt.xlabel('False Positive Rate')\n",
    "plt.ylabel('True Positive Rate')\n",
    "plt.title('ROC Curve')\n",
    "plt.legend()\n",
    "plt.show()"
   ]
  },
  {
   "cell_type": "markdown",
   "metadata": {},
   "source": [
    "Testing\n",
    "---------"
   ]
  },
  {
   "cell_type": "code",
   "execution_count": 7,
   "metadata": {},
   "outputs": [],
   "source": [
    "import h5py\n",
    "\n",
    "test_data = test_files.drop(columns=[\n",
    "    \"tbp_lv_location_simple\",\n",
    "    \"image_type\",\n",
    "    \"tbp_tile_type\",\n",
    "    \"attribution\",\n",
    "    \"copyright_license\",\n",
    "    \"patient_id\"\n",
    "    ])\n",
    "test_names = []\n",
    "with h5py.File('/home/arnabdey/Placement_ML_projects/.vscode/Kaggle cancer images/isic-2024-challenge/test-image.hdf5', 'r') as f:\n",
    "    for group_name in f.keys():\n",
    "        test_names.append(group_name)"
   ]
  },
  {
   "cell_type": "code",
   "execution_count": 8,
   "metadata": {},
   "outputs": [],
   "source": [
    "test_data[\"age_approx\"] = test_data[\"age_approx\"].fillna(-10.0)\n",
    "test_data[\"sex\"] = test_data[\"sex\"].replace({'male' : 0, 'female' : 1}).fillna(-1.0)\n",
    "test_data[\"anatom_site_general\"] = test_data[\"anatom_site_general\"].replace({\n",
    "    'lower extremity' : 0,\n",
    "    'head/neck' : 1,\n",
    "    'posterior torso' : 2,\n",
    "    'anterior torso' : 3,\n",
    "    'upper extremity' : 4\n",
    "}).fillna(-1)\n",
    "unique_vals = test_data[\"tbp_lv_location\"].unique()\n",
    "# print(len(unique_vals))\n",
    "myDict = {}\n",
    "i = 0\n",
    "for x in unique_vals:\n",
    "    myDict[x] = i\n",
    "    i += 1\n",
    "test_data[\"tbp_lv_location\"] = test_data[\"tbp_lv_location\"].replace(myDict)"
   ]
  },
  {
   "cell_type": "code",
   "execution_count": 8,
   "metadata": {},
   "outputs": [],
   "source": [
    "attr_ones =  torch.tensor(all_data_ones.drop(columns=[\"isic_id\", \"target\"]).values, dtype=torch.float32)\n",
    "test_attr = torch.tensor(test_data.drop(columns=[\"isic_id\"]).values, dtype=torch.float32)"
   ]
  },
  {
   "cell_type": "code",
   "execution_count": 33,
   "metadata": {},
   "outputs": [
    {
     "name": "stderr",
     "output_type": "stream",
     "text": [
      "  0%|          | 0/12521 [00:00<?, ?it/s]"
     ]
    },
    {
     "name": "stdout",
     "output_type": "stream",
     "text": [
      "(300, 300, 3)\n"
     ]
    },
    {
     "name": "stderr",
     "output_type": "stream",
     "text": [
      "\n"
     ]
    }
   ],
   "source": [
    "Images_Path = \"/home/arnabdey/Placement_ML_projects/.vscode/Kaggle cancer images/isic-2024-challenge/train-image/image\"\n",
    "outputs = []\n",
    "batch_size = 32\n",
    "for i in tqdm(range(0,len(all_data_zeros), batch_size)):\n",
    "\n",
    "    list_of_images = []\n",
    "    for name in all_data_zeros[\"isic_id\"][i : i + batch_size]:\n",
    "\n",
    "        path = Images_Path + \"/\" + name + \".jpg\"        \n",
    "        image = cv2.resize(cv2.imread(path) / 255.0, (300, 300))\n",
    "        list_of_images.append(image)\n",
    "    test_images = np.array(list_of_images, dtype = float)\n",
    "    test_images = torch.tensor(test_images, dtype=torch.float32, device='cuda')\n",
    "    test_attr = torch.tensor(all_data_zeros[i : i+batch_size].drop(columns=[\"isic_id\", \"target\"]).values, dtype=torch.float32, device='cuda')\n",
    "    break\n",
    "    with torch.no_grad():\n",
    "        output = torch.softmax(model(test_images, test_attr), dim=1).detach().cpu().numpy()\n",
    "    for o in output[:, 1]:\n",
    "        outputs.append(o)\n"
   ]
  },
  {
   "cell_type": "code",
   "execution_count": 34,
   "metadata": {},
   "outputs": [],
   "source": [
    "outputs = []\n",
    "batch_size = 32\n",
    "for i in range(0, len(test_names), batch_size):\n",
    "    names = test_names[i : i + batch_size]\n",
    "    list_of_images = []\n",
    "    list_of_attrs = []\n",
    "\n",
    "    for name in names:\n",
    "        path = Images_Path + \"/\" + name + \".jpg\"        \n",
    "        # print(path)\n",
    "    #     image = cv2.resize(cv2.imread(path) / 255.0, (300, 300))\n",
    "        image = np.random.randn(300, 300, 3)\n",
    "        list_of_images.append(image)\n",
    "        list_of_attrs.append(test_data[test_data[\"isic_id\"] == name].drop(columns=[\"isic_id\"]).values)\n",
    "\n",
    "    test_images = np.array(list_of_images, dtype = float)\n",
    "    test_images = torch.tensor(test_images, dtype=torch.float32, device='cuda')\n",
    "    test_attr = np.array(list_of_attrs, dtype = float).reshape(-1, 37)\n",
    "    test_attr = torch.tensor(test_attr, dtype=torch.float32, device='cuda')\n",
    "    \n",
    "    with torch.no_grad():\n",
    "        output = torch.softmax(model(test_images, test_attr), dim=1).detach().cpu().numpy()\n",
    "    for o in output[:, 1]:\n",
    "        outputs.append(o)"
   ]
  },
  {
   "cell_type": "code",
   "execution_count": 35,
   "metadata": {},
   "outputs": [
    {
     "name": "stdout",
     "output_type": "stream",
     "text": [
      "[1.3862583e-12, 4.6192614e-16, 1.879104e-14]\n"
     ]
    }
   ],
   "source": [
    "print(outputs)"
   ]
  },
  {
   "cell_type": "code",
   "execution_count": 40,
   "metadata": {},
   "outputs": [],
   "source": [
    "Data = {\n",
    "    \"isic_id\" : [name for name in test_names],\n",
    "    \"target\"  : [probability for probability in outputs]\n",
    "    }\n",
    "df = pd.DataFrame(Data)\n",
    "df.to_csv(\"mySampleSubmission.csv\", index=False)"
   ]
  },
  {
   "cell_type": "code",
   "execution_count": 41,
   "metadata": {},
   "outputs": [
    {
     "name": "stdout",
     "output_type": "stream",
     "text": [
      "        isic_id        target\n",
      "0  ISIC_0015657  1.386258e-12\n",
      "1  ISIC_0015729  4.619261e-16\n",
      "2  ISIC_0015740  1.879104e-14\n"
     ]
    }
   ],
   "source": [
    "d = pd.read_csv(\"/home/arnabdey/Placement_ML_projects/.vscode/Kaggle cancer images/mySampleSubmission.csv\")\n",
    "print(d.head())"
   ]
  },
  {
   "cell_type": "markdown",
   "metadata": {},
   "source": [
    "Using HDF5\n",
    "---"
   ]
  },
  {
   "cell_type": "code",
   "execution_count": 78,
   "metadata": {},
   "outputs": [],
   "source": [
    "import io\n",
    "from PIL import Image\n",
    "image_names = list(f.keys())"
   ]
  },
  {
   "cell_type": "code",
   "execution_count": 79,
   "metadata": {},
   "outputs": [],
   "source": [
    "f = h5py.File(\"/home/arnabdey/Placement_ML_projects/.vscode/Kaggle cancer images/isic-2024-challenge/test-image.hdf5\", 'r')\n",
    "\n",
    "outputs = []\n",
    "batch_size = 32\n",
    "for i in range(0, len(image_names), batch_size):\n",
    "\n",
    "    list_of_images = []\n",
    "    list_of_attrs = []\n",
    "    for name in image_names[i : i + batch_size]:\n",
    "        x = f[name][()]\n",
    "        image = cv2.resize(np.array(Image.open(io.BytesIO(x)), dtype = float) / 255.0, (300, 300))\n",
    "        list_of_images.append(image)\n",
    "        list_of_attrs.append(test_data[test_data[\"isic_id\"] == name].drop(columns = [\"isic_id\"]).values)\n",
    "\n",
    "    list_of_images = np.array(list_of_images, dtype = float)\n",
    "    list_of_attrs = np.array(list_of_attrs, dtype = float).reshape(-1, 37)\n",
    "\n",
    "    list_of_images = torch.tensor(list_of_images, dtype=torch.float32, device='cuda')\n",
    "    list_of_attrs = torch.tensor(list_of_attrs, dtype=torch.float32, device='cuda')\n",
    "\n",
    "    with torch.no_grad():\n",
    "        output = torch.softmax(model(list_of_images, list_of_attrs), dim=1).detach().cpu().numpy()\n",
    "    for o in output[:, 1]:\n",
    "        outputs.append(o)"
   ]
  },
  {
   "cell_type": "code",
   "execution_count": 9,
   "metadata": {},
   "outputs": [
    {
     "name": "stderr",
     "output_type": "stream",
     "text": [
      "/tmp/ipykernel_7252/1316586501.py:52: UserWarning: To copy construct from a tensor, it is recommended to use sourceTensor.clone().detach() or sourceTensor.clone().detach().requires_grad_(True), rather than torch.tensor(sourceTensor).\n",
      "  list_of_images = torch.tensor(list_of_images, dtype=torch.float32, device='cuda')\n",
      "/tmp/ipykernel_7252/1316586501.py:53: UserWarning: To copy construct from a tensor, it is recommended to use sourceTensor.clone().detach() or sourceTensor.clone().detach().requires_grad_(True), rather than torch.tensor(sourceTensor).\n",
      "  list_of_attrs = torch.tensor(list_of_attrs, dtype=torch.float32, device='cuda').reshape(-1, 37)\n"
     ]
    }
   ],
   "source": [
    "import h5py\n",
    "import numpy as np\n",
    "import torch\n",
    "import cv2\n",
    "from PIL import Image\n",
    "import io\n",
    "from torch.utils.data import DataLoader, Dataset\n",
    "import concurrent.futures\n",
    "\n",
    "# Define a custom dataset\n",
    "class CustomDataset(Dataset):\n",
    "    def __init__(self, image_names, hdf5_file, test_data):\n",
    "        self.image_names = image_names\n",
    "        self.f = hdf5_file\n",
    "        self.test_data = test_data\n",
    "\n",
    "    def __len__(self):\n",
    "        return len(self.image_names)\n",
    "\n",
    "    def __getitem__(self, idx):\n",
    "        name = self.image_names[idx]\n",
    "        x = self.f[name][()]\n",
    "        image = cv2.resize(np.array(Image.open(io.BytesIO(x)), dtype=float) / 255.0, (300, 300))\n",
    "        attrs = self.test_data[self.test_data[\"isic_id\"] == name].drop(columns=[\"isic_id\"]).values\n",
    "        return image, attrs\n",
    "\n",
    "# Load data in parallel\n",
    "def load_data_parallel(image_names, f, test_data, batch_size):\n",
    "    dataset = CustomDataset(image_names, f, test_data)\n",
    "    dataloader = DataLoader(dataset, batch_size=batch_size, num_workers=8, pin_memory=True)\n",
    "    return dataloader\n",
    "\n",
    "# Optimized test loop\n",
    "# f = h5py.File(\"/kaggle/input/isic-2024-challenge/test-image.hdf5\", 'r')\n",
    "f = h5py.File(\"/home/arnabdey/Placement_ML_projects/.vscode/Kaggle cancer images/isic-2024-challenge/test-image.hdf5\", 'r')\n",
    "\n",
    "image_names = list(f.keys())\n",
    "\n",
    "batch_size = 512\n",
    "dataloader = load_data_parallel(image_names, f, test_data, batch_size)\n",
    "\n",
    "outputs = []\n",
    "model.to('cuda')\n",
    "model.eval()\n",
    "\n",
    "# Optional: Mixed precision\n",
    "scaler = torch.cuda.amp.autocast()\n",
    "\n",
    "with torch.no_grad():\n",
    "    for batch in dataloader:\n",
    "        list_of_images, list_of_attrs = batch\n",
    "        list_of_images = torch.tensor(list_of_images, dtype=torch.float32, device='cuda')\n",
    "        list_of_attrs = torch.tensor(list_of_attrs, dtype=torch.float32, device='cuda').reshape(-1, 37)\n",
    "\n",
    "        with torch.cuda.amp.autocast():\n",
    "            output = torch.softmax(model(list_of_images, list_of_attrs), dim=1).detach().cpu().numpy()\n",
    "\n",
    "        outputs.extend(output[:, 1].tolist())\n",
    "\n",
    "f.close()"
   ]
  },
  {
   "cell_type": "code",
   "execution_count": 11,
   "metadata": {},
   "outputs": [],
   "source": [
    "model = torch.compile(model)"
   ]
  }
 ],
 "metadata": {
  "kernelspec": {
   "display_name": "Python 3.8.10 64-bit",
   "language": "python",
   "name": "python3"
  },
  "language_info": {
   "codemirror_mode": {
    "name": "ipython",
    "version": 3
   },
   "file_extension": ".py",
   "mimetype": "text/x-python",
   "name": "python",
   "nbconvert_exporter": "python",
   "pygments_lexer": "ipython3",
   "version": "3.8.10"
  },
  "orig_nbformat": 4,
  "vscode": {
   "interpreter": {
    "hash": "e7370f93d1d0cde622a1f8e1c04877d8463912d04d973331ad4851f04de6915a"
   }
  }
 },
 "nbformat": 4,
 "nbformat_minor": 2
}
